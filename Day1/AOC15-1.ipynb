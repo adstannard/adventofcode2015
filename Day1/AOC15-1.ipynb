{
 "cells": [
  {
   "cell_type": "markdown",
   "metadata": {},
   "source": [
    "--- Day 1: Calorie Counting ---\n",
    "\n",
    "Santa's reindeer typically eat regular reindeer food, but they need a lot of magical energy to deliver presents on Christmas. For that, their favorite snack is a special type of star fruit that only grows deep in the jungle. The Elves have brought you on their annual expedition to the grove where the fruit grows.\n",
    "\n",
    "To supply enough magical energy, the expedition needs to retrieve a minimum of fifty stars by December 25th. Although the Elves assure you that the grove has plenty of fruit, you decide to grab any fruit you see along the way, just in case."
   ]
  },
  {
   "cell_type": "code",
   "execution_count": 1,
   "metadata": {},
   "outputs": [
    {
     "name": "stdout",
     "output_type": "stream",
     "text": [
      "2238\n"
     ]
    }
   ],
   "source": [
    "# Open data input file\n",
    "with open('input1.txt','r') as fh:\n",
    "    calories = [line.strip() for line in fh]\n",
    "    # print(calories)\n",
    "print(len(calories))"
   ]
  },
  {
   "cell_type": "code",
   "execution_count": 48,
   "metadata": {},
   "outputs": [
    {
     "name": "stdout",
     "output_type": "stream",
     "text": [
      "72017\n"
     ]
    }
   ],
   "source": [
    "# Add calories\n",
    "total_calories = []\n",
    "calories_count = 0\n",
    "for i, value in enumerate(calories):\n",
    "    # print(\"entry: \" + value)\n",
    "    if value != '':\n",
    "        calories_count += int(value)\n",
    "        # print(calories_count)\n",
    "    else:\n",
    "        total_calories.append(calories_count)\n",
    "        calories_count = 0\n",
    "\n",
    "# Total per Elf    \n",
    "# print(total_calories)\n",
    "\n",
    "# Largest item in list\n",
    "print(max(total_calories))\n"
   ]
  },
  {
   "cell_type": "code",
   "execution_count": 53,
   "metadata": {},
   "outputs": [
    {
     "name": "stdout",
     "output_type": "stream",
     "text": [
      "[72017, 71144, 69359]\n",
      "212520\n"
     ]
    }
   ],
   "source": [
    "# Sort Elf total calpries in descending order\n",
    "total_calories.sort(reverse=True)\n",
    "print(total_calories[:3])\n",
    "\n",
    "top_3_total = sum(total_calories[:3])\n",
    "print(top_3_total)"
   ]
  }
 ],
 "metadata": {
  "kernelspec": {
   "display_name": "Python 3.10.8 ('Py31_Dev')",
   "language": "python",
   "name": "python3"
  },
  "language_info": {
   "codemirror_mode": {
    "name": "ipython",
    "version": 3
   },
   "file_extension": ".py",
   "mimetype": "text/x-python",
   "name": "python",
   "nbconvert_exporter": "python",
   "pygments_lexer": "ipython3",
   "version": "3.10.8"
  },
  "orig_nbformat": 4,
  "vscode": {
   "interpreter": {
    "hash": "24d77e4e3f40f54b922ceee46214d44e722801e275f5cabeda99b8c1039bb261"
   }
  }
 },
 "nbformat": 4,
 "nbformat_minor": 2
}
