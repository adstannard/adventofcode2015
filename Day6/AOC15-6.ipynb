{
 "cells": [
  {
   "cell_type": "markdown",
   "metadata": {},
   "source": [
    "--- Day 5: Doesn't He Have Intern-Elves For This? ---\n",
    "\n",
    "Santa needs help figuring out which strings in his text file are naughty or nice.\n",
    "\n",
    "A nice string is one with all of the following properties:\n",
    "\n",
    "It contains at least three vowels (aeiou only), like aei, xazegov, or aeiouaeiouaeiou.\n",
    "It contains at least one letter that appears twice in a row, like xx, abcdde (dd), or aabbccdd (aa, bb, cc, or dd).\n",
    "It does not contain the strings ab, cd, pq, or xy, even if they are part of one of the other requirements.\n",
    "For example:\n",
    "\n",
    "ugknbfddgicrmopn is nice because it has at least three vowels (u...i...o...), a double letter (...dd...), and none of the disallowed substrings.\n",
    "aaa is nice because it has at least three vowels and a double letter, even though the letters used by different rules overlap.\n",
    "jchzalrnumimnmhp is naughty because it has no double letter.\n",
    "haegwjzuvuyypxyu is naughty because it contains the string xy.\n",
    "dvszwmarrgswjxmb is naughty because it contains only one vowel.\n",
    "How many strings are nice?"
   ]
  },
  {
   "cell_type": "code",
   "execution_count": 3,
   "metadata": {},
   "outputs": [
    {
     "name": "stdout",
     "output_type": "stream",
     "text": [
      "['turn on 887,9 through 959,629', 'turn on 454,398 through 844,448', 'turn off 539,243 through 559,965', 'turn off 370,819 through 676,868', 'turn off 145,40 through 370,997', 'turn off 301,3 through 808,453', 'turn on 351,678 through 951,908', 'toggle 720,196 through 897,994', 'toggle 831,394 through 904,860', 'toggle 753,664 through 970,926']\n",
      "10\n"
     ]
    }
   ],
   "source": [
    "# Open data input file\n",
    "with open('test.txt','r') as fh:\n",
    "    data = [line.strip() for line in fh]\n",
    "    print(data)\n",
    "print(len(data))"
   ]
  },
  {
   "cell_type": "code",
   "execution_count": 5,
   "metadata": {},
   "outputs": [
    {
     "name": "stdout",
     "output_type": "stream",
     "text": [
      "turn on 887,9 through 959,629\n",
      "turn on 454,398 through 844,448\n",
      "turn off 539,243 through 559,965\n",
      "turn off 370,819 through 676,868\n",
      "turn off 145,40 through 370,997\n",
      "turn off 301,3 through 808,453\n",
      "turn on 351,678 through 951,908\n",
      "toggle 720,196 through 897,994\n",
      "toggle 831,394 through 904,860\n",
      "toggle 753,664 through 970,926\n"
     ]
    }
   ],
   "source": [
    "#Data Stream - Single input\n",
    "for instruction in data:\n",
    "    print(instruction)\n",
    "\n",
    "    \n",
    "            \n"
   ]
  },
  {
   "cell_type": "code",
   "execution_count": 9,
   "metadata": {},
   "outputs": [
    {
     "name": "stdout",
     "output_type": "stream",
     "text": [
      "[0, 0, 0, 0, 0, 0, 0, 0, 0, 0]\n",
      "[0, 0, 0, 0, 0, 0, 0, 0, 0, 0]\n",
      "[0, 0, 0, 0, 0, 0, 0, 0, 0, 0]\n",
      "[0, 0, 0, 0, 0, 0, 0, 0, 0, 0]\n",
      "[0, 0, 0, 0, 0, 0, 0, 0, 0, 0]\n",
      "[0, 0, 0, 0, 0, 0, 0, 0, 0, 0]\n",
      "[0, 0, 0, 0, 0, 0, 0, 0, 0, 0]\n",
      "[0, 0, 0, 0, 0, 0, 0, 0, 0, 0]\n",
      "[0, 0, 0, 0, 0, 0, 0, 0, 0, 0]\n",
      "[0, 0, 0, 0, 0, 0, 0, 0, 0, 0]\n",
      "[0, 0, 0, 0, 0, 0, 0, 0, 0, 0]\n"
     ]
    }
   ],
   "source": [
    "def light_toggle(bulb: int) -> int:\n",
    "    if bulb == 0:\n",
    "        return 1\n",
    "    elif bulb == 1:\n",
    "        return 0\n",
    "    else:\n",
    "        raise ValueError('Element value is not 0')\n",
    "\n",
    "def light_on() -> int:\n",
    "    return 1\n",
    "\n",
    "def light_off() -> int:\n",
    "    return 0\n",
    "\n",
    "\n",
    "def rowmaker(n):\n",
    "    row = [0] * n\n",
    "    return row\n",
    "\n",
    "rows = rowmaker(10)\n",
    "\n",
    "print(rows)\n",
    "\n",
    "def columnmaker(n):\n",
    "    column = [rows] * n\n",
    "    return column\n",
    "\n",
    "grid = columnmaker(10)\n",
    "\n",
    "print(*grid, sep='\\n')"
   ]
  }
 ],
 "metadata": {
  "kernelspec": {
   "display_name": "base",
   "language": "python",
   "name": "python3"
  },
  "language_info": {
   "codemirror_mode": {
    "name": "ipython",
    "version": 3
   },
   "file_extension": ".py",
   "mimetype": "text/x-python",
   "name": "python",
   "nbconvert_exporter": "python",
   "pygments_lexer": "ipython3",
   "version": "3.11.6"
  }
 },
 "nbformat": 4,
 "nbformat_minor": 2
}
