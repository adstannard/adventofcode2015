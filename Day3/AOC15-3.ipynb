{
 "cells": [
  {
   "cell_type": "markdown",
   "metadata": {},
   "source": [
    "--- Day 3: Perfectly Spherical Houses in a Vacuum ---\n",
    "\n",
    "Santa is delivering presents to an infinite two-dimensional grid of houses.\n",
    "\n",
    "He begins by delivering a present to the house at his starting location, and then an elf at the North Pole calls him via radio and tells him where to move next. Moves are always exactly one house to the north (^), south (v), east (>), or west (<). After each move, he delivers another present to the house at his new location.\n",
    "\n",
    "However, the elf back at the north pole has had a little too much eggnog, and so his directions are a little off, and Santa ends up visiting some houses more than once. How many houses receive at least one present?\n",
    "\n",
    "For example:\n",
    "\n",
    "> delivers presents to 2 houses: one at the starting location, and one to the east.\n",
    "^>v< delivers presents to 4 houses in a square, including twice to the house at his starting/ending location.\n",
    "^v^v^v^v^v delivers a bunch of presents to some very lucky children at only 2 houses."
   ]
  },
  {
   "cell_type": "code",
   "execution_count": 1,
   "metadata": {},
   "outputs": [
    {
     "name": "stdout",
     "output_type": "stream",
     "text": [
      "['^>v<']\n",
      "1\n"
     ]
    }
   ],
   "source": [
    "# Open data input file\n",
    "with open('test.txt','r') as fh:\n",
    "    data = [line.strip() for line in fh]\n",
    "    print(data)\n",
    "print(len(data))"
   ]
  },
  {
   "cell_type": "code",
   "execution_count": null,
   "metadata": {},
   "outputs": [],
   "source": [
    "#Data Stream - map moves\n",
    "coords = [0,0]\n",
    "datastream = date[0]\n",
    "\n",
    "for i, letter in enumerate(datastream):\n",
    "\n",
    "    match letter:\n",
    "        case '>':\n",
    "            coords[0] += 1\n",
    "        case '<':\n",
    "            coords[0] -= 1\n",
    "        case '^':\n",
    "            coords[1] += 1\n",
    "        case 'v':\n",
    "            coords[1] -= 1\n",
    "    \n",
    "    position = set\n",
    "            \n"
   ]
  }
 ],
 "metadata": {
  "kernelspec": {
   "display_name": "base",
   "language": "python",
   "name": "python3"
  },
  "language_info": {
   "codemirror_mode": {
    "name": "ipython",
    "version": 3
   },
   "file_extension": ".py",
   "mimetype": "text/x-python",
   "name": "python",
   "nbconvert_exporter": "python",
   "pygments_lexer": "ipython3",
   "version": "3.11.6"
  }
 },
 "nbformat": 4,
 "nbformat_minor": 2
}
